{
 "cells": [
  {
   "cell_type": "markdown",
   "source": "# Set up",
   "metadata": {
    "cell_id": "00000-3172cd34-79b3-4e69-b543-fe553c4a8871",
    "deepnote_cell_type": "markdown"
   }
  },
  {
   "cell_type": "code",
   "metadata": {
    "execution": {
     "iopub.status.busy": "2021-08-18T12:13:42.454203Z",
     "iopub.execute_input": "2021-08-18T12:13:42.454729Z",
     "iopub.status.idle": "2021-08-18T12:13:59.261368Z",
     "shell.execute_reply.started": "2021-08-18T12:13:42.454615Z",
     "shell.execute_reply": "2021-08-18T12:13:59.260097Z"
    },
    "trusted": true,
    "cell_id": "00001-5243c0c1-5986-4283-a22a-20009e1e9ca6",
    "deepnote_to_be_reexecuted": false,
    "source_hash": "e753addc",
    "execution_start": 1629391770691,
    "execution_millis": 3262,
    "deepnote_cell_type": "code"
   },
   "source": "import os\nimport tensorflow.compat.v2 as tf\nimport tensorflow_hub as hub\nimport cv2\nimport urllib.request\nimport pandas as pd\nimport numpy as np\nimport time\nfrom matplotlib import pyplot as plt\nfrom IPython.display import display\nimport ipytest\nipytest.autoconfig()\nimport pytest\nimport numpy.testing as npt\n\n# Getting some unknown linter errors, disable everything to get this to production asap\n# pylint: disable-all\n\nos.environ['TF_CPP_MIN_LOG_LEVEL'] = '3'  # Disable Tensorflow logging\n\nmodel_url = 'https://tfhub.dev/google/aiy/vision/classifier/birds_V1/1'\nlabels_url = 'https://www.gstatic.com/aihub/tfhub/labelmaps/aiy_birds_V1_labelmap.csv'\n\nimage_urls = [\n    'https://upload.wikimedia.org/wikipedia/commons/c/c8/Phalacrocorax_varius_-Waikawa%2C_Marlborough%2C_New_Zealand-8.jpg',\n    'https://quiz.natureid.no/bird/db_media/eBook/679edc606d9a363f775dabf0497d31de8c3d7060.jpg',\n    'https://upload.wikimedia.org/wikipedia/commons/8/81/Eumomota_superciliosa.jpg',\n    'https://i.pinimg.com/originals/f3/fb/92/f3fb92afce5ddff09a7370d90d021225.jpg',\n    'https://cdn.britannica.com/77/189277-004-0A3BC3D4.jpg'\n]",
   "execution_count": 2,
   "outputs": [
    {
     "name": "stdout",
     "text": "INFO:tensorflow:Enabling eager execution\nINFO:tensorflow:Enabling v2 tensorshape\nINFO:tensorflow:Enabling resource variables\nINFO:tensorflow:Enabling tensor equality\nINFO:tensorflow:Enabling control flow v2\n",
     "output_type": "stream"
    }
   ]
  },
  {
   "cell_type": "markdown",
   "source": "# Data",
   "metadata": {
    "cell_id": "00002-b9f2ac04-6b7f-4044-92ed-e680bab16452",
    "deepnote_cell_type": "markdown"
   }
  },
  {
   "cell_type": "markdown",
   "source": "Names of recognizable birds.",
   "metadata": {
    "cell_id": "00003-2fbf113c-7b67-4c7f-809c-cec479277b3f",
    "deepnote_cell_type": "markdown"
   }
  },
  {
   "cell_type": "code",
   "metadata": {
    "execution": {
     "iopub.status.busy": "2021-08-18T12:13:59.263144Z",
     "iopub.execute_input": "2021-08-18T12:13:59.263478Z",
     "iopub.status.idle": "2021-08-18T12:13:59.396785Z",
     "shell.execute_reply.started": "2021-08-18T12:13:59.263429Z",
     "shell.execute_reply": "2021-08-18T12:13:59.395435Z"
    },
    "trusted": true,
    "cell_id": "00004-9b6ee158-ab83-4c3a-8d11-35a82f378566",
    "deepnote_to_be_reexecuted": false,
    "source_hash": "5ff7a181",
    "execution_start": 1629391783466,
    "execution_millis": 116,
    "deepnote_cell_type": "code"
   },
   "source": "data_label = pd.read_csv(labels_url)\ndata_label",
   "execution_count": 3,
   "outputs": [
    {
     "output_type": "execute_result",
     "execution_count": 3,
     "data": {
      "application/vnd.deepnote.dataframe.v2+json": {
       "row_count": 965,
       "column_count": 2,
       "columns": [
        {
         "name": "id",
         "dtype": "int64",
         "stats": {
          "unique_count": 965,
          "nan_count": 0,
          "min": "0",
          "max": "964",
          "histogram": [
           {
            "bin_start": 0,
            "bin_end": 96.4,
            "count": 97
           },
           {
            "bin_start": 96.4,
            "bin_end": 192.8,
            "count": 96
           },
           {
            "bin_start": 192.8,
            "bin_end": 289.20000000000005,
            "count": 97
           },
           {
            "bin_start": 289.20000000000005,
            "bin_end": 385.6,
            "count": 96
           },
           {
            "bin_start": 385.6,
            "bin_end": 482,
            "count": 96
           },
           {
            "bin_start": 482,
            "bin_end": 578.4000000000001,
            "count": 97
           },
           {
            "bin_start": 578.4000000000001,
            "bin_end": 674.8000000000001,
            "count": 96
           },
           {
            "bin_start": 674.8000000000001,
            "bin_end": 771.2,
            "count": 97
           },
           {
            "bin_start": 771.2,
            "bin_end": 867.6,
            "count": 96
           },
           {
            "bin_start": 867.6,
            "bin_end": 964,
            "count": 97
           }
          ]
         }
        },
        {
         "name": "name",
         "dtype": "object",
         "stats": {
          "unique_count": 965,
          "nan_count": 0,
          "categories": [
           {
            "name": "background",
            "count": 1
           },
           {
            "name": "Haemorhous cassinii",
            "count": 1
           },
           {
            "name": "963 others",
            "count": 963
           }
          ]
         }
        },
        {
         "name": "_deepnote_index_column",
         "dtype": "int64"
        }
       ],
       "rows_top": [
        {
         "id": 964,
         "name": "background",
         "_deepnote_index_column": 0
        },
        {
         "id": 0,
         "name": "Haemorhous cassinii",
         "_deepnote_index_column": 1
        },
        {
         "id": 1,
         "name": "Aramus guarauna",
         "_deepnote_index_column": 2
        },
        {
         "id": 2,
         "name": "Rupornis magnirostris",
         "_deepnote_index_column": 3
        },
        {
         "id": 3,
         "name": "Cyanocitta cristata",
         "_deepnote_index_column": 4
        },
        {
         "id": 4,
         "name": "Cyanocitta stelleri",
         "_deepnote_index_column": 5
        },
        {
         "id": 5,
         "name": "Balearica regulorum",
         "_deepnote_index_column": 6
        },
        {
         "id": 6,
         "name": "Pyrocephalus rubinus",
         "_deepnote_index_column": 7
        },
        {
         "id": 7,
         "name": "Recurvirostra americana",
         "_deepnote_index_column": 8
        },
        {
         "id": 8,
         "name": "Ardeotis kori",
         "_deepnote_index_column": 9
        },
        {
         "id": 9,
         "name": "Pica nuttalli",
         "_deepnote_index_column": 10
        },
        {
         "id": 10,
         "name": "Perisoreus canadensis",
         "_deepnote_index_column": 11
        },
        {
         "id": 11,
         "name": "Antigone canadensis",
         "_deepnote_index_column": 12
        },
        {
         "id": 12,
         "name": "Parkesia noveboracensis",
         "_deepnote_index_column": 13
        },
        {
         "id": 13,
         "name": "Ardea herodias occidentalis",
         "_deepnote_index_column": 14
        },
        {
         "id": 14,
         "name": "Porzana carolina",
         "_deepnote_index_column": 15
        },
        {
         "id": 15,
         "name": "Anas platyrhynchos diazi",
         "_deepnote_index_column": 16
        },
        {
         "id": 16,
         "name": "Motacilla cinerea",
         "_deepnote_index_column": 17
        },
        {
         "id": 17,
         "name": "Empidonax difficilis",
         "_deepnote_index_column": 18
        },
        {
         "id": 18,
         "name": "Empidonax minimus",
         "_deepnote_index_column": 19
        },
        {
         "id": 19,
         "name": "Empidonax fulvifrons",
         "_deepnote_index_column": 20
        },
        {
         "id": 20,
         "name": "Empidonax traillii",
         "_deepnote_index_column": 21
        },
        {
         "id": 21,
         "name": "Empidonax hammondii",
         "_deepnote_index_column": 22
        },
        {
         "id": 22,
         "name": "Empidonax occidentalis",
         "_deepnote_index_column": 23
        },
        {
         "id": 23,
         "name": "Rallus limicola",
         "_deepnote_index_column": 24
        },
        {
         "id": 24,
         "name": "Grus grus",
         "_deepnote_index_column": 25
        },
        {
         "id": 25,
         "name": "Quiscalus major",
         "_deepnote_index_column": 26
        },
        {
         "id": 26,
         "name": "Branta leucopsis",
         "_deepnote_index_column": 27
        },
        {
         "id": 27,
         "name": "Cyanocorax yucatanicus",
         "_deepnote_index_column": 28
        },
        {
         "id": 28,
         "name": "Cyanocorax yncas",
         "_deepnote_index_column": 29
        },
        {
         "id": 29,
         "name": "Oceanites oceanicus",
         "_deepnote_index_column": 30
        },
        {
         "id": 30,
         "name": "Quiscalus niger",
         "_deepnote_index_column": 31
        },
        {
         "id": 31,
         "name": "Psilorhinus morio",
         "_deepnote_index_column": 32
        },
        {
         "id": 32,
         "name": "Megarynchus pitangua",
         "_deepnote_index_column": 33
        },
        {
         "id": 33,
         "name": "Gallinula tenebrosa",
         "_deepnote_index_column": 34
        },
        {
         "id": 34,
         "name": "Gallus gallus domesticus",
         "_deepnote_index_column": 35
        },
        {
         "id": 35,
         "name": "Numida meleagris",
         "_deepnote_index_column": 36
        },
        {
         "id": 36,
         "name": "Junco hyemalis caniceps",
         "_deepnote_index_column": 37
        },
        {
         "id": 37,
         "name": "Tyrannus vociferans",
         "_deepnote_index_column": 38
        },
        {
         "id": 38,
         "name": "Tyrannus tyrannus",
         "_deepnote_index_column": 39
        },
        {
         "id": 39,
         "name": "Tyrannus forficatus",
         "_deepnote_index_column": 40
        },
        {
         "id": 40,
         "name": "Tyrannus crassirostris",
         "_deepnote_index_column": 41
        },
        {
         "id": 41,
         "name": "Tyrannus verticalis",
         "_deepnote_index_column": 42
        },
        {
         "id": 42,
         "name": "Tyrannus savana",
         "_deepnote_index_column": 43
        },
        {
         "id": 43,
         "name": "Gallirallus australis",
         "_deepnote_index_column": 44
        },
        {
         "id": 44,
         "name": "Calocitta formosa",
         "_deepnote_index_column": 45
        },
        {
         "id": 45,
         "name": "Calocitta colliei",
         "_deepnote_index_column": 46
        },
        {
         "id": 46,
         "name": "Fulica americana",
         "_deepnote_index_column": 47
        },
        {
         "id": 47,
         "name": "Pachyramphus aglaiae",
         "_deepnote_index_column": 48
        },
        {
         "id": 48,
         "name": "Buteo lagopus",
         "_deepnote_index_column": 49
        },
        {
         "id": 49,
         "name": "Cygnus atratus",
         "_deepnote_index_column": 50
        },
        {
         "id": 50,
         "name": "Philesturnus rufusater",
         "_deepnote_index_column": 51
        },
        {
         "id": 51,
         "name": "Larus marinus",
         "_deepnote_index_column": 52
        },
        {
         "id": 52,
         "name": "Pitangus sulphuratus",
         "_deepnote_index_column": 53
        },
        {
         "id": 53,
         "name": "Anas rubripes",
         "_deepnote_index_column": 54
        },
        {
         "id": 54,
         "name": "Anthus novaeseelandiae novaeseelandiae",
         "_deepnote_index_column": 55
        },
        {
         "id": 55,
         "name": "Sayornis phoebe",
         "_deepnote_index_column": 56
        },
        {
         "id": 56,
         "name": "Sayornis nigricans",
         "_deepnote_index_column": 57
        },
        {
         "id": 57,
         "name": "Tityra semifasciata",
         "_deepnote_index_column": 58
        },
        {
         "id": 58,
         "name": "Dryocopus lineatus",
         "_deepnote_index_column": 59
        },
        {
         "id": 59,
         "name": "Porphyrio melanotus",
         "_deepnote_index_column": 60
        },
        {
         "id": 60,
         "name": "Anas bahamensis",
         "_deepnote_index_column": 61
        },
        {
         "id": 61,
         "name": "Egretta novaehollandiae",
         "_deepnote_index_column": 62
        },
        {
         "id": 62,
         "name": "Anas crecca carolinensis",
         "_deepnote_index_column": 63
        },
        {
         "id": 63,
         "name": "Alectoris chukar",
         "_deepnote_index_column": 64
        },
        {
         "id": 64,
         "name": "Tachybaptus dominicus",
         "_deepnote_index_column": 65
        },
        {
         "id": 65,
         "name": "Artemisiospiza belli",
         "_deepnote_index_column": 66
        },
        {
         "id": 66,
         "name": "Gallus gallus",
         "_deepnote_index_column": 67
        },
        {
         "id": 67,
         "name": "Cardinalis sinuatus",
         "_deepnote_index_column": 68
        },
        {
         "id": 68,
         "name": "Cardinalis cardinalis",
         "_deepnote_index_column": 69
        },
        {
         "id": 69,
         "name": "Melospiza lincolnii",
         "_deepnote_index_column": 70
        },
        {
         "id": 70,
         "name": "Podilymbus podiceps",
         "_deepnote_index_column": 71
        },
        {
         "id": 71,
         "name": "Melospiza georgiana",
         "_deepnote_index_column": 72
        },
        {
         "id": 72,
         "name": "Meleagris gallopavo",
         "_deepnote_index_column": 73
        },
        {
         "id": 73,
         "name": "Meleagris ocellata",
         "_deepnote_index_column": 74
        },
        {
         "id": 74,
         "name": "Lagopus lagopus",
         "_deepnote_index_column": 75
        },
        {
         "id": 75,
         "name": "Spizella atrogularis",
         "_deepnote_index_column": 76
        },
        {
         "id": 76,
         "name": "Pyrrhocorax graculus",
         "_deepnote_index_column": 77
        },
        {
         "id": 77,
         "name": "Spizella breweri",
         "_deepnote_index_column": 78
        },
        {
         "id": 78,
         "name": "Sialia currucoides",
         "_deepnote_index_column": 79
        },
        {
         "id": 79,
         "name": "Spizella pusilla",
         "_deepnote_index_column": 80
        },
        {
         "id": 80,
         "name": "Anas superciliosa",
         "_deepnote_index_column": 81
        },
        {
         "id": 81,
         "name": "Passerella iliaca",
         "_deepnote_index_column": 82
        },
        {
         "id": 82,
         "name": "Phoenicopterus ruber",
         "_deepnote_index_column": 83
        },
        {
         "id": 83,
         "name": "Sylvia atricapilla",
         "_deepnote_index_column": 84
        },
        {
         "id": 84,
         "name": "Vireo bellii",
         "_deepnote_index_column": 85
        },
        {
         "id": 85,
         "name": "Vireo plumbeus",
         "_deepnote_index_column": 86
        },
        {
         "id": 86,
         "name": "Vireo philadelphicus",
         "_deepnote_index_column": 87
        },
        {
         "id": 87,
         "name": "Vireo flavifrons",
         "_deepnote_index_column": 88
        },
        {
         "id": 88,
         "name": "Vireo olivaceus",
         "_deepnote_index_column": 89
        },
        {
         "id": 89,
         "name": "Zonotrichia querula",
         "_deepnote_index_column": 90
        },
        {
         "id": 90,
         "name": "Vireo huttoni",
         "_deepnote_index_column": 91
        },
        {
         "id": 91,
         "name": "Zonotrichia albicollis",
         "_deepnote_index_column": 92
        },
        {
         "id": 92,
         "name": "Zonotrichia atricapilla",
         "_deepnote_index_column": 93
        },
        {
         "id": 93,
         "name": "Emberiza citrinella",
         "_deepnote_index_column": 94
        },
        {
         "id": 94,
         "name": "Bucephala islandica",
         "_deepnote_index_column": 95
        },
        {
         "id": 95,
         "name": "Emberiza schoeniclus",
         "_deepnote_index_column": 96
        },
        {
         "id": 96,
         "name": "Vireo gilvus",
         "_deepnote_index_column": 97
        },
        {
         "id": 97,
         "name": "Serinus serinus",
         "_deepnote_index_column": 98
        },
        {
         "id": 98,
         "name": "Serinus mozambicus",
         "_deepnote_index_column": 99
        },
        {
         "id": 99,
         "name": "Lophura leucomelanos",
         "_deepnote_index_column": 100
        },
        {
         "id": 100,
         "name": "Euphonia elegantissima",
         "_deepnote_index_column": 101
        },
        {
         "id": 101,
         "name": "Euphonia hirundinacea",
         "_deepnote_index_column": 102
        },
        {
         "id": 102,
         "name": "Euphonia affinis",
         "_deepnote_index_column": 103
        },
        {
         "id": 103,
         "name": "Agelaius tricolor",
         "_deepnote_index_column": 104
        },
        {
         "id": 104,
         "name": "Momotus lessonii",
         "_deepnote_index_column": 105
        },
        {
         "id": 105,
         "name": "Zosterops japonicus",
         "_deepnote_index_column": 106
        },
        {
         "id": 106,
         "name": "Phalacrocorax pelagicus",
         "_deepnote_index_column": 107
        },
        {
         "id": 107,
         "name": "Icterus cucullatus",
         "_deepnote_index_column": 108
        },
        {
         "id": 108,
         "name": "Icterus graduacauda",
         "_deepnote_index_column": 109
        },
        {
         "id": 109,
         "name": "Motacilla aguimp",
         "_deepnote_index_column": 110
        },
        {
         "id": 110,
         "name": "Anas superciliosa × platyrhynchos",
         "_deepnote_index_column": 111
        },
        {
         "id": 111,
         "name": "Icterus pustulatus",
         "_deepnote_index_column": 112
        },
        {
         "id": 112,
         "name": "Icterus gularis",
         "_deepnote_index_column": 113
        },
        {
         "id": 113,
         "name": "Carduelis cannabina",
         "_deepnote_index_column": 114
        },
        {
         "id": 114,
         "name": "Catharus minimus",
         "_deepnote_index_column": 115
        },
        {
         "id": 115,
         "name": "Amaurornis phoenicurus",
         "_deepnote_index_column": 116
        },
        {
         "id": 116,
         "name": "Pavo cristatus",
         "_deepnote_index_column": 117
        },
        {
         "id": 117,
         "name": "Rallus crepitans",
         "_deepnote_index_column": 118
        },
        {
         "id": 118,
         "name": "Nestor meridionalis septentrionalis",
         "_deepnote_index_column": 119
        },
        {
         "id": 119,
         "name": "Pipilo chlorurus",
         "_deepnote_index_column": 120
        },
        {
         "id": 120,
         "name": "Pipilo maculatus",
         "_deepnote_index_column": 121
        },
        {
         "id": 121,
         "name": "Pipilo erythrophthalmus",
         "_deepnote_index_column": 122
        },
        {
         "id": 122,
         "name": "Cairina moschata domestica",
         "_deepnote_index_column": 123
        },
        {
         "id": 123,
         "name": "Phalacrocorax varius",
         "_deepnote_index_column": 124
        },
        {
         "id": 124,
         "name": "Picoides dorsalis",
         "_deepnote_index_column": 125
        },
        {
         "id": 125,
         "name": "Picoides nuttallii",
         "_deepnote_index_column": 126
        },
        {
         "id": 126,
         "name": "Picoides scalaris",
         "_deepnote_index_column": 127
        },
        {
         "id": 127,
         "name": "Callipepla gambelii",
         "_deepnote_index_column": 128
        },
        {
         "id": 128,
         "name": "Pyrrhula pyrrhula",
         "_deepnote_index_column": 129
        },
        {
         "id": 129,
         "name": "Phalacrocorax brasilianus",
         "_deepnote_index_column": 130
        },
        {
         "id": 130,
         "name": "Picoides pubescens",
         "_deepnote_index_column": 131
        },
        {
         "id": 131,
         "name": "Colinus virginianus",
         "_deepnote_index_column": 132
        },
        {
         "id": 132,
         "name": "Sporophila torqueola",
         "_deepnote_index_column": 133
        },
        {
         "id": 133,
         "name": "Picoides villosus",
         "_deepnote_index_column": 134
        },
        {
         "id": 134,
         "name": "Calidris pusilla",
         "_deepnote_index_column": 135
        },
        {
         "id": 135,
         "name": "Picoides arcticus",
         "_deepnote_index_column": 136
        },
        {
         "id": 136,
         "name": "Aythya marila",
         "_deepnote_index_column": 137
        },
        {
         "id": 137,
         "name": "Phaethon aethereus",
         "_deepnote_index_column": 138
        },
        {
         "id": 138,
         "name": "Sturnella magna",
         "_deepnote_index_column": 139
        },
        {
         "id": 139,
         "name": "Melopsittacus undulatus",
         "_deepnote_index_column": 140
        },
        {
         "id": 140,
         "name": "Aythya affinis",
         "_deepnote_index_column": 141
        },
        {
         "id": 141,
         "name": "Aythya novaeseelandiae",
         "_deepnote_index_column": 142
        },
        {
         "id": 142,
         "name": "Cyrtonyx montezumae",
         "_deepnote_index_column": 143
        },
        {
         "id": 143,
         "name": "Pelecanus occidentalis",
         "_deepnote_index_column": 144
        },
        {
         "id": 144,
         "name": "Cinclus cinclus",
         "_deepnote_index_column": 145
        },
        {
         "id": 145,
         "name": "Chen rossii",
         "_deepnote_index_column": 146
        },
        {
         "id": 146,
         "name": "Callipepla californica",
         "_deepnote_index_column": 147
        },
        {
         "id": 147,
         "name": "Quiscalus quiscula",
         "_deepnote_index_column": 148
        },
        {
         "id": 148,
         "name": "Quiscalus mexicanus",
         "_deepnote_index_column": 149
        },
        {
         "id": 149,
         "name": "Callipepla squamata",
         "_deepnote_index_column": 150
        },
        {
         "id": 150,
         "name": "Dryocopus pileatus",
         "_deepnote_index_column": 151
        },
        {
         "id": 151,
         "name": "Passerina caerulea",
         "_deepnote_index_column": 152
        },
        {
         "id": 152,
         "name": "Amazilia beryllina",
         "_deepnote_index_column": 153
        },
        {
         "id": 153,
         "name": "Geothlypis trichas",
         "_deepnote_index_column": 154
        },
        {
         "id": 154,
         "name": "Trogon melanocephalus",
         "_deepnote_index_column": 155
        },
        {
         "id": 155,
         "name": "Sylvia communis",
         "_deepnote_index_column": 156
        },
        {
         "id": 156,
         "name": "Pinicola enucleator",
         "_deepnote_index_column": 157
        },
        {
         "id": 157,
         "name": "Coccothraustes vespertinus",
         "_deepnote_index_column": 158
        },
        {
         "id": 158,
         "name": "Coccothraustes coccothraustes",
         "_deepnote_index_column": 159
        },
        {
         "id": 159,
         "name": "Vermivora chrysoptera",
         "_deepnote_index_column": 160
        },
        {
         "id": 160,
         "name": "Opisthocomus hoazin",
         "_deepnote_index_column": 161
        },
        {
         "id": 161,
         "name": "Setophaga coronata coronata",
         "_deepnote_index_column": 162
        },
        {
         "id": 162,
         "name": "Diglossa baritula",
         "_deepnote_index_column": 163
        },
        {
         "id": 163,
         "name": "Saltator coerulescens",
         "_deepnote_index_column": 164
        },
        {
         "id": 164,
         "name": "Saltator atriceps",
         "_deepnote_index_column": 165
        },
        {
         "id": 165,
         "name": "Sicalis flaveola",
         "_deepnote_index_column": 166
        },
        {
         "id": 166,
         "name": "Aix galericulata",
         "_deepnote_index_column": 167
        },
        {
         "id": 167,
         "name": "Junco hyemalis hyemalis",
         "_deepnote_index_column": 168
        },
        {
         "id": 168,
         "name": "Eupsittula canicularis",
         "_deepnote_index_column": 169
        },
        {
         "id": 169,
         "name": "Microcarbo melanoleucos",
         "_deepnote_index_column": 170
        },
        {
         "id": 170,
         "name": "Piranga rubra",
         "_deepnote_index_column": 171
        },
        {
         "id": 171,
         "name": "Piranga olivacea",
         "_deepnote_index_column": 172
        },
        {
         "id": 172,
         "name": "Piranga flava",
         "_deepnote_index_column": 173
        },
        {
         "id": 173,
         "name": "Amphispiza bilineata",
         "_deepnote_index_column": 174
        },
        {
         "id": 174,
         "name": "Larus dominicanus",
         "_deepnote_index_column": 175
        },
        {
         "id": 175,
         "name": "Piaya cayana",
         "_deepnote_index_column": 176
        },
        {
         "id": 176,
         "name": "Aimophila ruficeps",
         "_deepnote_index_column": 177
        },
        {
         "id": 177,
         "name": "Melanerpes lewis",
         "_deepnote_index_column": 178
        },
        {
         "id": 178,
         "name": "Melanerpes uropygialis",
         "_deepnote_index_column": 179
        },
        {
         "id": 179,
         "name": "Passerculus sandwichensis",
         "_deepnote_index_column": 180
        },
        {
         "id": 180,
         "name": "Melanerpes pucherani",
         "_deepnote_index_column": 181
        },
        {
         "id": 181,
         "name": "Salpinctes obsoletus",
         "_deepnote_index_column": 182
        },
        {
         "id": 182,
         "name": "Melanerpes carolinus",
         "_deepnote_index_column": 183
        },
        {
         "id": 183,
         "name": "Melanerpes chrysogenys",
         "_deepnote_index_column": 184
        },
        {
         "id": 184,
         "name": "Melanerpes formicivorus",
         "_deepnote_index_column": 185
        },
        {
         "id": 185,
         "name": "Colaptes auratus",
         "_deepnote_index_column": 186
        },
        {
         "id": 186,
         "name": "Basileuterus rufifrons",
         "_deepnote_index_column": 187
        },
        {
         "id": 187,
         "name": "Larus michahellis",
         "_deepnote_index_column": 188
        },
        {
         "id": 188,
         "name": "Ramphocelus passerinii",
         "_deepnote_index_column": 189
        },
        {
         "id": 189,
         "name": "Athene cunicularia",
         "_deepnote_index_column": 190
        },
        {
         "id": 190,
         "name": "Branta hutchinsii",
         "_deepnote_index_column": 191
        },
        {
         "id": 191,
         "name": "Fringilla montifringilla",
         "_deepnote_index_column": 192
        },
        {
         "id": 192,
         "name": "Fringilla coelebs",
         "_deepnote_index_column": 193
        },
        {
         "id": 193,
         "name": "Junco hyemalis",
         "_deepnote_index_column": 194
        },
        {
         "id": 194,
         "name": "Cuculus canorus",
         "_deepnote_index_column": 195
        },
        {
         "id": 195,
         "name": "Junco phaeonotus",
         "_deepnote_index_column": 196
        },
        {
         "id": 196,
         "name": "Ammodramus nelsoni",
         "_deepnote_index_column": 197
        },
        {
         "id": 197,
         "name": "Ammodramus savannarum",
         "_deepnote_index_column": 198
        },
        {
         "id": 198,
         "name": "Ammodramus maritimus",
         "_deepnote_index_column": 199
        },
        {
         "id": 199,
         "name": "Coccyzus erythropthalmus",
         "_deepnote_index_column": 200
        },
        {
         "id": 200,
         "name": "Coccyzus minor",
         "_deepnote_index_column": 201
        },
        {
         "id": 201,
         "name": "Coccyzus americanus",
         "_deepnote_index_column": 202
        },
        {
         "id": 202,
         "name": "Nucifraga columbiana",
         "_deepnote_index_column": 203
        },
        {
         "id": 203,
         "name": "Crotophaga sulcirostris",
         "_deepnote_index_column": 204
        },
        {
         "id": 204,
         "name": "Pooecetes gramineus",
         "_deepnote_index_column": 205
        },
        {
         "id": 205,
         "name": "Arremonops rufivirgatus",
         "_deepnote_index_column": 206
        },
        {
         "id": 206,
         "name": "Geococcyx californianus",
         "_deepnote_index_column": 207
        },
        {
         "id": 207,
         "name": "Geococcyx velox",
         "_deepnote_index_column": 208
        },
        {
         "id": 208,
         "name": "Coereba flaveola",
         "_deepnote_index_column": 209
        },
        {
         "id": 209,
         "name": "Passerina ciris",
         "_deepnote_index_column": 210
        },
        {
         "id": 210,
         "name": "Alectura lathami",
         "_deepnote_index_column": 211
        },
        {
         "id": 211,
         "name": "Passerina leclancherii",
         "_deepnote_index_column": 212
        },
        {
         "id": 212,
         "name": "Passerina amoena",
         "_deepnote_index_column": 213
        },
        {
         "id": 213,
         "name": "Icteria virens",
         "_deepnote_index_column": 214
        },
        {
         "id": 214,
         "name": "Crax rubra",
         "_deepnote_index_column": 215
        },
        {
         "id": 215,
         "name": "Penelope purpurascens",
         "_deepnote_index_column": 216
        },
        {
         "id": 216,
         "name": "Copsychus malabaricus",
         "_deepnote_index_column": 217
        },
        {
         "id": 217,
         "name": "Paroaria capitata",
         "_deepnote_index_column": 218
        },
        {
         "id": 218,
         "name": "Cyanerpes cyaneus",
         "_deepnote_index_column": 219
        },
        {
         "id": 219,
         "name": "Microcarbo melanoleucos brevirostris",
         "_deepnote_index_column": 220
        },
        {
         "id": 220,
         "name": "Sphyrapicus thyroideus",
         "_deepnote_index_column": 221
        },
        {
         "id": 221,
         "name": "Pheucticus ludovicianus",
         "_deepnote_index_column": 222
        },
        {
         "id": 222,
         "name": "Sphyrapicus ruber",
         "_deepnote_index_column": 223
        },
        {
         "id": 223,
         "name": "Pheucticus melanocephalus",
         "_deepnote_index_column": 224
        },
        {
         "id": 224,
         "name": "Sphyrapicus nuchalis",
         "_deepnote_index_column": 225
        },
        {
         "id": 225,
         "name": "Ortalis poliocephala",
         "_deepnote_index_column": 226
        },
        {
         "id": 226,
         "name": "Ortalis vetula",
         "_deepnote_index_column": 227
        },
        {
         "id": 227,
         "name": "Corvus albus",
         "_deepnote_index_column": 228
        },
        {
         "id": 228,
         "name": "Mniotilta varia",
         "_deepnote_index_column": 229
        },
        {
         "id": 229,
         "name": "Volatinia jacarina",
         "_deepnote_index_column": 230
        },
        {
         "id": 230,
         "name": "Thraupis palmarum",
         "_deepnote_index_column": 231
        },
        {
         "id": 231,
         "name": "Momotus mexicanus",
         "_deepnote_index_column": 232
        },
        {
         "id": 232,
         "name": "Euphagus cyanocephalus",
         "_deepnote_index_column": 233
        },
        {
         "id": 233,
         "name": "Cacatua galerita",
         "_deepnote_index_column": 234
        },
        {
         "id": 234,
         "name": "Junco hyemalis oreganus",
         "_deepnote_index_column": 235
        },
        {
         "id": 235,
         "name": "Pluvialis fulva",
         "_deepnote_index_column": 236
        },
        {
         "id": 236,
         "name": "Molothrus aeneus",
         "_deepnote_index_column": 237
        },
        {
         "id": 237,
         "name": "Molothrus ater",
         "_deepnote_index_column": 238
        },
        {
         "id": 238,
         "name": "Merops pusillus",
         "_deepnote_index_column": 239
        },
        {
         "id": 239,
         "name": "Merops apiaster",
         "_deepnote_index_column": 240
        },
        {
         "id": 240,
         "name": "Pteroglossus torquatus",
         "_deepnote_index_column": 241
        },
        {
         "id": 241,
         "name": "Loxia curvirostra",
         "_deepnote_index_column": 242
        },
        {
         "id": 242,
         "name": "Merops orientalis",
         "_deepnote_index_column": 243
        },
        {
         "id": 243,
         "name": "Loxia leucoptera",
         "_deepnote_index_column": 244
        },
        {
         "id": 244,
         "name": "Coracias garrulus",
         "_deepnote_index_column": 245
        },
        {
         "id": 245,
         "name": "Coracias caudatus",
         "_deepnote_index_column": 246
        },
        {
         "id": 246,
         "name": "Coracias benghalensis",
         "_deepnote_index_column": 247
        },
        {
         "id": 247,
         "name": "Xanthocephalus xanthocephalus",
         "_deepnote_index_column": 248
        },
        {
         "id": 248,
         "name": "Chondestes grammacus",
         "_deepnote_index_column": 249
        }
       ],
       "rows_bottom": [
        {
         "id": 714,
         "name": "Vireo cassinii",
         "_deepnote_index_column": 715
        },
        {
         "id": 715,
         "name": "Setophaga nigrescens",
         "_deepnote_index_column": 716
        },
        {
         "id": 716,
         "name": "Setophaga townsendi",
         "_deepnote_index_column": 717
        },
        {
         "id": 717,
         "name": "Setophaga occidentalis",
         "_deepnote_index_column": 718
        },
        {
         "id": 718,
         "name": "Setophaga chrysoparia",
         "_deepnote_index_column": 719
        },
        {
         "id": 719,
         "name": "Setophaga virens",
         "_deepnote_index_column": 720
        },
        {
         "id": 720,
         "name": "Cardellina canadensis",
         "_deepnote_index_column": 721
        },
        {
         "id": 721,
         "name": "Cardellina rubra",
         "_deepnote_index_column": 722
        },
        {
         "id": 722,
         "name": "Aphelocoma coerulescens",
         "_deepnote_index_column": 723
        },
        {
         "id": 723,
         "name": "Melanerpes erythrocephalus",
         "_deepnote_index_column": 724
        },
        {
         "id": 724,
         "name": "Emberiza calandra",
         "_deepnote_index_column": 725
        },
        {
         "id": 725,
         "name": "Acanthis flammea",
         "_deepnote_index_column": 726
        },
        {
         "id": 726,
         "name": "Spinus pinus",
         "_deepnote_index_column": 727
        },
        {
         "id": 727,
         "name": "Thraupis abbas",
         "_deepnote_index_column": 728
        },
        {
         "id": 728,
         "name": "Spinus psaltria",
         "_deepnote_index_column": 729
        },
        {
         "id": 729,
         "name": "Spinus lawrencei",
         "_deepnote_index_column": 730
        },
        {
         "id": 730,
         "name": "Spinus tristis",
         "_deepnote_index_column": 731
        },
        {
         "id": 731,
         "name": "Threskiornis aethiopicus",
         "_deepnote_index_column": 732
        },
        {
         "id": 732,
         "name": "Gygis alba",
         "_deepnote_index_column": 733
        },
        {
         "id": 733,
         "name": "Tachycineta bicolor",
         "_deepnote_index_column": 734
        },
        {
         "id": 734,
         "name": "Larus dominicanus dominicanus",
         "_deepnote_index_column": 735
        },
        {
         "id": 735,
         "name": "Lonchura oryzivora",
         "_deepnote_index_column": 736
        },
        {
         "id": 736,
         "name": "Haematopus palliatus",
         "_deepnote_index_column": 737
        },
        {
         "id": 737,
         "name": "Chloris chloris",
         "_deepnote_index_column": 738
        },
        {
         "id": 738,
         "name": "Accipiter cooperii",
         "_deepnote_index_column": 739
        },
        {
         "id": 739,
         "name": "Vireo solitarius",
         "_deepnote_index_column": 740
        },
        {
         "id": 740,
         "name": "Selasphorus platycercus",
         "_deepnote_index_column": 741
        },
        {
         "id": 741,
         "name": "Chroicocephalus scopulinus",
         "_deepnote_index_column": 742
        },
        {
         "id": 742,
         "name": "Aechmophorus occidentalis",
         "_deepnote_index_column": 743
        },
        {
         "id": 743,
         "name": "Hemiphaga novaeseelandiae",
         "_deepnote_index_column": 744
        },
        {
         "id": 744,
         "name": "Xema sabini",
         "_deepnote_index_column": 745
        },
        {
         "id": 745,
         "name": "Ramphastos sulfuratus",
         "_deepnote_index_column": 746
        },
        {
         "id": 746,
         "name": "Dacelo novaeguineae",
         "_deepnote_index_column": 747
        },
        {
         "id": 747,
         "name": "Fulica atra",
         "_deepnote_index_column": 748
        },
        {
         "id": 748,
         "name": "Hirundo rustica erythrogaster",
         "_deepnote_index_column": 749
        },
        {
         "id": 749,
         "name": "Calypte costae",
         "_deepnote_index_column": 750
        },
        {
         "id": 750,
         "name": "Calypte anna",
         "_deepnote_index_column": 751
        },
        {
         "id": 751,
         "name": "Colaptes auratus cafer",
         "_deepnote_index_column": 752
        },
        {
         "id": 752,
         "name": "Sula nebouxii",
         "_deepnote_index_column": 753
        },
        {
         "id": 753,
         "name": "Copsychus saularis",
         "_deepnote_index_column": 754
        },
        {
         "id": 754,
         "name": "Selasphorus sasin",
         "_deepnote_index_column": 755
        },
        {
         "id": 755,
         "name": "Selasphorus rufus",
         "_deepnote_index_column": 756
        },
        {
         "id": 756,
         "name": "Calothorax lucifer",
         "_deepnote_index_column": 757
        },
        {
         "id": 757,
         "name": "Pycnonotus barbatus",
         "_deepnote_index_column": 758
        },
        {
         "id": 758,
         "name": "Larus glaucescens × occidentalis",
         "_deepnote_index_column": 759
        },
        {
         "id": 759,
         "name": "Aphelocoma woodhouseii",
         "_deepnote_index_column": 760
        },
        {
         "id": 760,
         "name": "Florisuga mellivora",
         "_deepnote_index_column": 761
        },
        {
         "id": 761,
         "name": "Haematopus finschi",
         "_deepnote_index_column": 762
        },
        {
         "id": 762,
         "name": "Falcipennis canadensis",
         "_deepnote_index_column": 763
        },
        {
         "id": 763,
         "name": "Archilochus alexandri",
         "_deepnote_index_column": 764
        },
        {
         "id": 764,
         "name": "Circus cyaneus",
         "_deepnote_index_column": 765
        },
        {
         "id": 765,
         "name": "Ardea alba modesta",
         "_deepnote_index_column": 766
        },
        {
         "id": 766,
         "name": "Myiarchus crinitus",
         "_deepnote_index_column": 767
        },
        {
         "id": 767,
         "name": "Buteo regalis",
         "_deepnote_index_column": 768
        },
        {
         "id": 768,
         "name": "Aeronautes saxatalis",
         "_deepnote_index_column": 769
        },
        {
         "id": 769,
         "name": "Chaetura vauxi",
         "_deepnote_index_column": 770
        },
        {
         "id": 770,
         "name": "Chaetura pelagica",
         "_deepnote_index_column": 771
        },
        {
         "id": 771,
         "name": "Setophaga pensylvanica",
         "_deepnote_index_column": 772
        },
        {
         "id": 772,
         "name": "Lanius ludovicianus",
         "_deepnote_index_column": 773
        },
        {
         "id": 773,
         "name": "Anhinga anhinga",
         "_deepnote_index_column": 774
        },
        {
         "id": 774,
         "name": "Acridotheres tristis",
         "_deepnote_index_column": 775
        },
        {
         "id": 775,
         "name": "Sitta pygmaea",
         "_deepnote_index_column": 776
        },
        {
         "id": 776,
         "name": "Actophilornis africanus",
         "_deepnote_index_column": 777
        },
        {
         "id": 777,
         "name": "Sitta canadensis",
         "_deepnote_index_column": 778
        },
        {
         "id": 778,
         "name": "Sitta europaea",
         "_deepnote_index_column": 779
        },
        {
         "id": 779,
         "name": "Sitta pusilla",
         "_deepnote_index_column": 780
        },
        {
         "id": 780,
         "name": "Apus apus",
         "_deepnote_index_column": 781
        },
        {
         "id": 781,
         "name": "Sturnus vulgaris",
         "_deepnote_index_column": 782
        },
        {
         "id": 782,
         "name": "Seiurus aurocapilla",
         "_deepnote_index_column": 783
        },
        {
         "id": 783,
         "name": "Motacilla flava",
         "_deepnote_index_column": 784
        },
        {
         "id": 784,
         "name": "Vireo griseus",
         "_deepnote_index_column": 785
        },
        {
         "id": 785,
         "name": "Toxostoma longirostre",
         "_deepnote_index_column": 786
        },
        {
         "id": 786,
         "name": "Calidris alba",
         "_deepnote_index_column": 787
        },
        {
         "id": 787,
         "name": "Toxostoma redivivum",
         "_deepnote_index_column": 788
        },
        {
         "id": 788,
         "name": "Gallinula galeata",
         "_deepnote_index_column": 789
        },
        {
         "id": 789,
         "name": "Calidris himantopus",
         "_deepnote_index_column": 790
        },
        {
         "id": 790,
         "name": "Eugenes fulgens",
         "_deepnote_index_column": 791
        },
        {
         "id": 791,
         "name": "Icterus wagleri",
         "_deepnote_index_column": 792
        },
        {
         "id": 792,
         "name": "Icterus parisorum",
         "_deepnote_index_column": 793
        },
        {
         "id": 793,
         "name": "Buteo platypterus",
         "_deepnote_index_column": 794
        },
        {
         "id": 794,
         "name": "Gallinago gallinago",
         "_deepnote_index_column": 795
        },
        {
         "id": 795,
         "name": "Icterus spurius",
         "_deepnote_index_column": 796
        },
        {
         "id": 796,
         "name": "Calidris minutilla",
         "_deepnote_index_column": 797
        },
        {
         "id": 797,
         "name": "Dumetella carolinensis",
         "_deepnote_index_column": 798
        },
        {
         "id": 798,
         "name": "Porphyrio hochstetteri",
         "_deepnote_index_column": 799
        },
        {
         "id": 799,
         "name": "Calidris fuscicollis",
         "_deepnote_index_column": 800
        },
        {
         "id": 800,
         "name": "Phalaropus tricolor",
         "_deepnote_index_column": 801
        },
        {
         "id": 801,
         "name": "Colaptes auratus auratus",
         "_deepnote_index_column": 802
        },
        {
         "id": 802,
         "name": "Melanotis caerulescens",
         "_deepnote_index_column": 803
        },
        {
         "id": 803,
         "name": "Tiaris olivaceus",
         "_deepnote_index_column": 804
        },
        {
         "id": 804,
         "name": "Oreoscoptes montanus",
         "_deepnote_index_column": 805
        },
        {
         "id": 805,
         "name": "Limnodromus scolopaceus",
         "_deepnote_index_column": 806
        },
        {
         "id": 806,
         "name": "Tringa solitaria",
         "_deepnote_index_column": 807
        },
        {
         "id": 807,
         "name": "Sitta carolinensis",
         "_deepnote_index_column": 808
        },
        {
         "id": 808,
         "name": "Tringa totanus",
         "_deepnote_index_column": 809
        },
        {
         "id": 809,
         "name": "Dendrocygna autumnalis",
         "_deepnote_index_column": 810
        },
        {
         "id": 810,
         "name": "Dendrocygna viduata",
         "_deepnote_index_column": 811
        },
        {
         "id": 811,
         "name": "Dendrocygna bicolor",
         "_deepnote_index_column": 812
        },
        {
         "id": 812,
         "name": "Icterus abeillei",
         "_deepnote_index_column": 813
        },
        {
         "id": 813,
         "name": "Vanellus chilensis",
         "_deepnote_index_column": 814
        },
        {
         "id": 814,
         "name": "Cygnus buccinator",
         "_deepnote_index_column": 815
        },
        {
         "id": 815,
         "name": "Cygnus cygnus",
         "_deepnote_index_column": 816
        },
        {
         "id": 816,
         "name": "Cygnus columbianus",
         "_deepnote_index_column": 817
        },
        {
         "id": 817,
         "name": "Cygnus olor",
         "_deepnote_index_column": 818
        },
        {
         "id": 818,
         "name": "Icterus galbula",
         "_deepnote_index_column": 819
        },
        {
         "id": 819,
         "name": "Anas platyrhynchos",
         "_deepnote_index_column": 820
        },
        {
         "id": 820,
         "name": "Anas acuta",
         "_deepnote_index_column": 821
        },
        {
         "id": 821,
         "name": "Anas crecca",
         "_deepnote_index_column": 822
        },
        {
         "id": 822,
         "name": "Anas cyanoptera",
         "_deepnote_index_column": 823
        },
        {
         "id": 823,
         "name": "Anas fulvigula",
         "_deepnote_index_column": 824
        },
        {
         "id": 824,
         "name": "Anas discors",
         "_deepnote_index_column": 825
        },
        {
         "id": 825,
         "name": "Anas strepera",
         "_deepnote_index_column": 826
        },
        {
         "id": 826,
         "name": "Anas clypeata",
         "_deepnote_index_column": 827
        },
        {
         "id": 827,
         "name": "Anas chlorotis",
         "_deepnote_index_column": 828
        },
        {
         "id": 828,
         "name": "Rhipidura leucophrys",
         "_deepnote_index_column": 829
        },
        {
         "id": 829,
         "name": "Anas americana",
         "_deepnote_index_column": 830
        },
        {
         "id": 830,
         "name": "Bucephala albeola",
         "_deepnote_index_column": 831
        },
        {
         "id": 831,
         "name": "Mergus serrator",
         "_deepnote_index_column": 832
        },
        {
         "id": 832,
         "name": "Mergus merganser",
         "_deepnote_index_column": 833
        },
        {
         "id": 833,
         "name": "Anser anser",
         "_deepnote_index_column": 834
        },
        {
         "id": 834,
         "name": "Anser albifrons",
         "_deepnote_index_column": 835
        },
        {
         "id": 835,
         "name": "Somateria mollissima",
         "_deepnote_index_column": 836
        },
        {
         "id": 836,
         "name": "Rallus obsoletus",
         "_deepnote_index_column": 837
        },
        {
         "id": 837,
         "name": "Platycercus elegans",
         "_deepnote_index_column": 838
        },
        {
         "id": 838,
         "name": "Melanitta fusca",
         "_deepnote_index_column": 839
        },
        {
         "id": 839,
         "name": "Milvus migrans",
         "_deepnote_index_column": 840
        },
        {
         "id": 840,
         "name": "Gelochelidon nilotica",
         "_deepnote_index_column": 841
        },
        {
         "id": 841,
         "name": "Ninox novaeseelandiae novaeseelandiae",
         "_deepnote_index_column": 842
        },
        {
         "id": 842,
         "name": "Melanitta perspicillata",
         "_deepnote_index_column": 843
        },
        {
         "id": 843,
         "name": "Aythya collaris",
         "_deepnote_index_column": 844
        },
        {
         "id": 844,
         "name": "Aythya ferina",
         "_deepnote_index_column": 845
        },
        {
         "id": 845,
         "name": "Aythya fuligula",
         "_deepnote_index_column": 846
        },
        {
         "id": 846,
         "name": "Numenius americanus",
         "_deepnote_index_column": 847
        },
        {
         "id": 847,
         "name": "Chen caerulescens",
         "_deepnote_index_column": 848
        },
        {
         "id": 848,
         "name": "Chamaea fasciata",
         "_deepnote_index_column": 849
        },
        {
         "id": 849,
         "name": "Branta canadensis",
         "_deepnote_index_column": 850
        },
        {
         "id": 850,
         "name": "Thalasseus elegans",
         "_deepnote_index_column": 851
        },
        {
         "id": 851,
         "name": "Branta sandvicensis",
         "_deepnote_index_column": 852
        },
        {
         "id": 852,
         "name": "Aythya americana",
         "_deepnote_index_column": 853
        },
        {
         "id": 853,
         "name": "Aix sponsa",
         "_deepnote_index_column": 854
        },
        {
         "id": 854,
         "name": "Lophodytes cucullatus",
         "_deepnote_index_column": 855
        },
        {
         "id": 855,
         "name": "Histrionicus histrionicus",
         "_deepnote_index_column": 856
        },
        {
         "id": 856,
         "name": "Aratinga nenday",
         "_deepnote_index_column": 857
        },
        {
         "id": 857,
         "name": "Psittacara holochlorus",
         "_deepnote_index_column": 858
        },
        {
         "id": 858,
         "name": "Cairina moschata",
         "_deepnote_index_column": 859
        },
        {
         "id": 859,
         "name": "Netta rufina",
         "_deepnote_index_column": 860
        },
        {
         "id": 860,
         "name": "Psittacara erythrogenys",
         "_deepnote_index_column": 861
        },
        {
         "id": 861,
         "name": "Sayornis saya",
         "_deepnote_index_column": 862
        },
        {
         "id": 862,
         "name": "Aythya valisineria",
         "_deepnote_index_column": 863
        },
        {
         "id": 863,
         "name": "Picoides albolarvatus",
         "_deepnote_index_column": 864
        },
        {
         "id": 864,
         "name": "Vermivora cyanoptera",
         "_deepnote_index_column": 865
        },
        {
         "id": 865,
         "name": "Corvus caurinus",
         "_deepnote_index_column": 866
        },
        {
         "id": 866,
         "name": "Asio otus",
         "_deepnote_index_column": 867
        },
        {
         "id": 867,
         "name": "Corvus brachyrhynchos",
         "_deepnote_index_column": 868
        },
        {
         "id": 868,
         "name": "Clangula hyemalis",
         "_deepnote_index_column": 869
        },
        {
         "id": 869,
         "name": "Chenonetta jubata",
         "_deepnote_index_column": 870
        },
        {
         "id": 870,
         "name": "Thalasseus sandvicensis",
         "_deepnote_index_column": 871
        },
        {
         "id": 871,
         "name": "Eolophus roseicapilla",
         "_deepnote_index_column": 872
        },
        {
         "id": 872,
         "name": "Colaptes rubiginosus",
         "_deepnote_index_column": 873
        },
        {
         "id": 873,
         "name": "Meleagris gallopavo silvestris",
         "_deepnote_index_column": 874
        },
        {
         "id": 874,
         "name": "Ptiliogonys cinereus",
         "_deepnote_index_column": 875
        },
        {
         "id": 875,
         "name": "Elanoides forficatus",
         "_deepnote_index_column": 876
        },
        {
         "id": 876,
         "name": "Carduelis carduelis",
         "_deepnote_index_column": 877
        },
        {
         "id": 877,
         "name": "Cassiculus melanicterus",
         "_deepnote_index_column": 878
        },
        {
         "id": 878,
         "name": "Dendragapus fuliginosus",
         "_deepnote_index_column": 879
        },
        {
         "id": 879,
         "name": "Psaltriparus minimus",
         "_deepnote_index_column": 880
        },
        {
         "id": 880,
         "name": "Aegithalos caudatus",
         "_deepnote_index_column": 881
        },
        {
         "id": 881,
         "name": "Zosterops lateralis lateralis",
         "_deepnote_index_column": 882
        },
        {
         "id": 882,
         "name": "Haliaeetus leucogaster",
         "_deepnote_index_column": 883
        },
        {
         "id": 883,
         "name": "Uria aalge",
         "_deepnote_index_column": 884
        },
        {
         "id": 884,
         "name": "Tringa semipalmata inornatus",
         "_deepnote_index_column": 885
        },
        {
         "id": 885,
         "name": "Alauda arvensis",
         "_deepnote_index_column": 886
        },
        {
         "id": 886,
         "name": "Galerida cristata",
         "_deepnote_index_column": 887
        },
        {
         "id": 887,
         "name": "Delichon urbicum",
         "_deepnote_index_column": 888
        },
        {
         "id": 888,
         "name": "Helmitheros vermivorum",
         "_deepnote_index_column": 889
        },
        {
         "id": 889,
         "name": "Hylocharis leucotis",
         "_deepnote_index_column": 890
        },
        {
         "id": 890,
         "name": "Mimus polyglottos",
         "_deepnote_index_column": 891
        },
        {
         "id": 891,
         "name": "Gymnorhina tibicen",
         "_deepnote_index_column": 892
        },
        {
         "id": 892,
         "name": "Alcedo atthis",
         "_deepnote_index_column": 893
        },
        {
         "id": 893,
         "name": "Streptopelia chinensis",
         "_deepnote_index_column": 894
        },
        {
         "id": 894,
         "name": "Bombycilla cedrorum",
         "_deepnote_index_column": 895
        },
        {
         "id": 895,
         "name": "Bombycilla garrulus",
         "_deepnote_index_column": 896
        },
        {
         "id": 896,
         "name": "Tadorna tadorna",
         "_deepnote_index_column": 897
        },
        {
         "id": 897,
         "name": "Petroica australis australis",
         "_deepnote_index_column": 898
        },
        {
         "id": 898,
         "name": "Amazona autumnalis",
         "_deepnote_index_column": 899
        },
        {
         "id": 899,
         "name": "Dendragapus obscurus",
         "_deepnote_index_column": 900
        },
        {
         "id": 900,
         "name": "Catherpes mexicanus",
         "_deepnote_index_column": 901
        },
        {
         "id": 901,
         "name": "Tadorna ferruginea",
         "_deepnote_index_column": 902
        },
        {
         "id": 902,
         "name": "Campylorhynchus brunneicapillus",
         "_deepnote_index_column": 903
        },
        {
         "id": 903,
         "name": "Campylorhynchus rufinucha",
         "_deepnote_index_column": 904
        },
        {
         "id": 904,
         "name": "Rhipidura fuliginosa",
         "_deepnote_index_column": 905
        },
        {
         "id": 905,
         "name": "Polioptila melanura",
         "_deepnote_index_column": 906
        },
        {
         "id": 906,
         "name": "Pelecanus occidentalis carolinensis",
         "_deepnote_index_column": 907
        },
        {
         "id": 907,
         "name": "Melozone aberti",
         "_deepnote_index_column": 908
        },
        {
         "id": 908,
         "name": "Melozone crissalis",
         "_deepnote_index_column": 909
        },
        {
         "id": 909,
         "name": "Thryothorus ludovicianus",
         "_deepnote_index_column": 910
        },
        {
         "id": 910,
         "name": "Parabuteo unicinctus",
         "_deepnote_index_column": 911
        },
        {
         "id": 911,
         "name": "Anas platyrhynchos domesticus",
         "_deepnote_index_column": 912
        },
        {
         "id": 912,
         "name": "Troglodytes aedon",
         "_deepnote_index_column": 913
        },
        {
         "id": 913,
         "name": "Buteo lineatus elegans",
         "_deepnote_index_column": 914
        },
        {
         "id": 914,
         "name": "Thamnophilus doliatus",
         "_deepnote_index_column": 915
        },
        {
         "id": 915,
         "name": "Thryomanes bewickii",
         "_deepnote_index_column": 916
        },
        {
         "id": 916,
         "name": "Tadorna variegata",
         "_deepnote_index_column": 917
        },
        {
         "id": 917,
         "name": "Myioborus miniatus",
         "_deepnote_index_column": 918
        },
        {
         "id": 918,
         "name": "Phalacrocorax varius varius",
         "_deepnote_index_column": 919
        },
        {
         "id": 919,
         "name": "Myioborus pictus",
         "_deepnote_index_column": 920
        },
        {
         "id": 920,
         "name": "Larus argentatus smithsonianus",
         "_deepnote_index_column": 921
        },
        {
         "id": 921,
         "name": "Parkesia motacilla",
         "_deepnote_index_column": 922
        },
        {
         "id": 922,
         "name": "Sula granti",
         "_deepnote_index_column": 923
        },
        {
         "id": 923,
         "name": "Ara macao",
         "_deepnote_index_column": 924
        },
        {
         "id": 924,
         "name": "Peucaea ruficauda",
         "_deepnote_index_column": 925
        },
        {
         "id": 925,
         "name": "Calidris subruficollis",
         "_deepnote_index_column": 926
        },
        {
         "id": 926,
         "name": "Phoenicopterus roseus",
         "_deepnote_index_column": 927
        },
        {
         "id": 927,
         "name": "Morus bassanus",
         "_deepnote_index_column": 928
        },
        {
         "id": 928,
         "name": "Pelecanus occidentalis californicus",
         "_deepnote_index_column": 929
        },
        {
         "id": 929,
         "name": "Glaucidium brasilianum",
         "_deepnote_index_column": 930
        },
        {
         "id": 930,
         "name": "Oxyura jamaicensis",
         "_deepnote_index_column": 931
        },
        {
         "id": 931,
         "name": "Myiarchus cinerascens",
         "_deepnote_index_column": 932
        },
        {
         "id": 932,
         "name": "Chloroceryle americana",
         "_deepnote_index_column": 933
        },
        {
         "id": 933,
         "name": "Sturnella neglecta",
         "_deepnote_index_column": 934
        },
        {
         "id": 934,
         "name": "Ramphastos ambiguus",
         "_deepnote_index_column": 935
        },
        {
         "id": 935,
         "name": "Paroaria coronata",
         "_deepnote_index_column": 936
        },
        {
         "id": 936,
         "name": "Buteo buteo",
         "_deepnote_index_column": 937
        },
        {
         "id": 937,
         "name": "Myiodynastes luteiventris",
         "_deepnote_index_column": 938
        },
        {
         "id": 938,
         "name": "Contopus sordidulus",
         "_deepnote_index_column": 939
        },
        {
         "id": 939,
         "name": "Corvus corone",
         "_deepnote_index_column": 940
        },
        {
         "id": 940,
         "name": "Cyanoramphus novaezelandiae",
         "_deepnote_index_column": 941
        },
        {
         "id": 941,
         "name": "Contopus virens",
         "_deepnote_index_column": 942
        },
        {
         "id": 942,
         "name": "Contopus pertinax",
         "_deepnote_index_column": 943
        },
        {
         "id": 943,
         "name": "Contopus cooperi",
         "_deepnote_index_column": 944
        },
        {
         "id": 944,
         "name": "Larus argentatus",
         "_deepnote_index_column": 945
        },
        {
         "id": 945,
         "name": "Halcyon smyrnensis",
         "_deepnote_index_column": 946
        },
        {
         "id": 946,
         "name": "Onychognathus morio",
         "_deepnote_index_column": 947
        },
        {
         "id": 947,
         "name": "Cyanocompsa parellina",
         "_deepnote_index_column": 948
        },
        {
         "id": 948,
         "name": "Cistothorus palustris",
         "_deepnote_index_column": 949
        },
        {
         "id": 949,
         "name": "Tyto alba",
         "_deepnote_index_column": 950
        },
        {
         "id": 950,
         "name": "Trogon caligatus",
         "_deepnote_index_column": 951
        },
        {
         "id": 951,
         "name": "Corvus monedula",
         "_deepnote_index_column": 952
        },
        {
         "id": 952,
         "name": "Corvus ossifragus",
         "_deepnote_index_column": 953
        },
        {
         "id": 953,
         "name": "Spheniscus demersus",
         "_deepnote_index_column": 954
        },
        {
         "id": 954,
         "name": "Corvus frugilegus",
         "_deepnote_index_column": 955
        },
        {
         "id": 955,
         "name": "Corvus splendens",
         "_deepnote_index_column": 956
        },
        {
         "id": 956,
         "name": "Branta bernicla",
         "_deepnote_index_column": 957
        },
        {
         "id": 957,
         "name": "Larus hyperboreus",
         "_deepnote_index_column": 958
        },
        {
         "id": 958,
         "name": "Columba livia domestica",
         "_deepnote_index_column": 959
        },
        {
         "id": 959,
         "name": "Garrulus glandarius",
         "_deepnote_index_column": 960
        },
        {
         "id": 960,
         "name": "Anser anser domesticus",
         "_deepnote_index_column": 961
        },
        {
         "id": 961,
         "name": "Mitrephanes phaeocercus",
         "_deepnote_index_column": 962
        },
        {
         "id": 962,
         "name": "Ardenna creatopus",
         "_deepnote_index_column": 963
        },
        {
         "id": 963,
         "name": "Ardenna gravis",
         "_deepnote_index_column": 964
        }
       ]
      },
      "text/plain": "      id                     name\n0    964               background\n1      0      Haemorhous cassinii\n2      1          Aramus guarauna\n3      2    Rupornis magnirostris\n4      3      Cyanocitta cristata\n..   ...                      ...\n960  959      Garrulus glandarius\n961  960   Anser anser domesticus\n962  961  Mitrephanes phaeocercus\n963  962        Ardenna creatopus\n964  963           Ardenna gravis\n\n[965 rows x 2 columns]",
      "text/html": "<div>\n<style scoped>\n    .dataframe tbody tr th:only-of-type {\n        vertical-align: middle;\n    }\n\n    .dataframe tbody tr th {\n        vertical-align: top;\n    }\n\n    .dataframe thead th {\n        text-align: right;\n    }\n</style>\n<table border=\"1\" class=\"dataframe\">\n  <thead>\n    <tr style=\"text-align: right;\">\n      <th></th>\n      <th>id</th>\n      <th>name</th>\n    </tr>\n  </thead>\n  <tbody>\n    <tr>\n      <th>0</th>\n      <td>964</td>\n      <td>background</td>\n    </tr>\n    <tr>\n      <th>1</th>\n      <td>0</td>\n      <td>Haemorhous cassinii</td>\n    </tr>\n    <tr>\n      <th>2</th>\n      <td>1</td>\n      <td>Aramus guarauna</td>\n    </tr>\n    <tr>\n      <th>3</th>\n      <td>2</td>\n      <td>Rupornis magnirostris</td>\n    </tr>\n    <tr>\n      <th>4</th>\n      <td>3</td>\n      <td>Cyanocitta cristata</td>\n    </tr>\n    <tr>\n      <th>...</th>\n      <td>...</td>\n      <td>...</td>\n    </tr>\n    <tr>\n      <th>960</th>\n      <td>959</td>\n      <td>Garrulus glandarius</td>\n    </tr>\n    <tr>\n      <th>961</th>\n      <td>960</td>\n      <td>Anser anser domesticus</td>\n    </tr>\n    <tr>\n      <th>962</th>\n      <td>961</td>\n      <td>Mitrephanes phaeocercus</td>\n    </tr>\n    <tr>\n      <th>963</th>\n      <td>962</td>\n      <td>Ardenna creatopus</td>\n    </tr>\n    <tr>\n      <th>964</th>\n      <td>963</td>\n      <td>Ardenna gravis</td>\n    </tr>\n  </tbody>\n</table>\n<p>965 rows × 2 columns</p>\n</div>"
     },
     "metadata": {}
    }
   ]
  },
  {
   "cell_type": "code",
   "metadata": {
    "execution": {
     "iopub.status.busy": "2021-08-18T12:13:59.399533Z",
     "iopub.execute_input": "2021-08-18T12:13:59.400014Z",
     "iopub.status.idle": "2021-08-18T12:13:59.40979Z",
     "shell.execute_reply.started": "2021-08-18T12:13:59.399965Z",
     "shell.execute_reply": "2021-08-18T12:13:59.408341Z"
    },
    "trusted": true,
    "cell_id": "00005-265a2622-6a12-4c5f-b845-6638b5d97d15",
    "deepnote_to_be_reexecuted": false,
    "source_hash": "c6d19fa3",
    "execution_start": 1629391786778,
    "execution_millis": 8,
    "deepnote_cell_type": "code"
   },
   "source": "labels = dict(data_label.values)\nlabels[0]",
   "execution_count": 4,
   "outputs": [
    {
     "output_type": "execute_result",
     "execution_count": 4,
     "data": {
      "text/plain": "'Haemorhous cassinii'"
     },
     "metadata": {}
    }
   ]
  },
  {
   "cell_type": "markdown",
   "source": "Image data",
   "metadata": {
    "cell_id": "00006-5026cde6-d415-4dfb-95c0-0bcd060ff5fc",
    "deepnote_cell_type": "markdown"
   }
  },
  {
   "cell_type": "code",
   "metadata": {
    "execution": {
     "iopub.status.busy": "2021-08-18T12:13:59.412479Z",
     "iopub.execute_input": "2021-08-18T12:13:59.413049Z",
     "iopub.status.idle": "2021-08-18T12:14:00.677556Z",
     "shell.execute_reply.started": "2021-08-18T12:13:59.412969Z",
     "shell.execute_reply": "2021-08-18T12:14:00.676694Z"
    },
    "trusted": true,
    "cell_id": "00007-6b9bb8ec-6f00-440b-a1ef-4398ffe80c97",
    "deepnote_to_be_reexecuted": false,
    "source_hash": "f2b3a829",
    "execution_start": 1629391790703,
    "execution_millis": 851,
    "deepnote_cell_type": "code"
   },
   "source": "# Loading images\nimage_get_response = urllib.request.urlopen(image_urls[0])\nimage_array = np.asarray(bytearray(image_get_response.read()), dtype=np.uint8)\n\n# Changing images\nimage = cv2.imdecode(image_array, cv2.IMREAD_COLOR)\nplt.imshow(image)\nplt.show()\nimage = cv2.resize(image, (224, 224))\nimage = cv2.cvtColor(image, cv2.COLOR_BGR2RGB)\nimage = image / 255\nplt.imshow(image)",
   "execution_count": 5,
   "outputs": [
    {
     "data": {
      "text/plain": "<Figure size 432x288 with 1 Axes>",
      "image/png": "[encoded data removed]"
     },
     "metadata": {
      "needs_background": "light",
      "image/png": {
       "width": 312,
       "height": 252
      }
     },
     "output_type": "display_data"
    },
    {
     "output_type": "execute_result",
     "execution_count": 5,
     "data": {
      "text/plain": "<matplotlib.image.AxesImage at 0x7fd59fc26198>"
     },
     "metadata": {}
    },
    {
     "data": {
      "text/plain": "<Figure size 432x288 with 1 Axes>",
      "image/png": "[encoded data removed]"
     },
     "metadata": {
      "needs_background": "light",
      "image/png": {
       "width": 257,
       "height": 252
      }
     },
     "output_type": "display_data"
    }
   ]
  },
  {
   "cell_type": "markdown",
   "source": "# Model",
   "metadata": {
    "cell_id": "00008-6c101708-0419-4e22-8424-d91c291fd077",
    "deepnote_cell_type": "markdown"
   }
  },
  {
   "cell_type": "code",
   "metadata": {
    "execution": {
     "iopub.status.busy": "2021-08-18T12:14:00.678764Z",
     "iopub.execute_input": "2021-08-18T12:14:00.67922Z",
     "iopub.status.idle": "2021-08-18T12:14:05.129343Z",
     "shell.execute_reply.started": "2021-08-18T12:14:00.679185Z",
     "shell.execute_reply": "2021-08-18T12:14:05.1282Z"
    },
    "trusted": true,
    "cell_id": "00009-1d642ce7-7113-4fd0-a734-534ffc14b159",
    "deepnote_to_be_reexecuted": false,
    "source_hash": "dfe1126e",
    "execution_start": 1629391794503,
    "execution_millis": 3121,
    "deepnote_cell_type": "code"
   },
   "source": "# Generate tensor\nimage_tensor = tf.convert_to_tensor([image], dtype=tf.float32)\n\n# predict bird name\nmodel = hub.KerasLayer(model_url)\nprob = model.call(image_tensor).numpy()[0]  # probability for each bird\nprint(prob.shape)\ntop_indices = prob.argsort()[-1:-11:-1]  # indices of top 10 predictions\ntop_names = list(map(labels.get, top_indices))  # top 10 birds\ntop_scores = prob[top_indices]  # top 10 scores\nprint(top_names)\nprint(top_scores)\nsum(top_scores)",
   "execution_count": 6,
   "outputs": [
    {
     "name": "stdout",
     "text": "INFO:tensorflow:Saver not created because there are no variables in the graph to restore\nINFO:tensorflow:Saver not created because there are no variables in the graph to restore\n(965,)\n['Phalacrocorax varius varius', 'Phalacrocorax varius', 'Microcarbo melanoleucos', 'Microcarbo melanoleucos brevirostris', 'Phalacrocorax carbo', 'Branta leucopsis', 'Prosthemadera novaeseelandiae novaeseelandiae', 'Hemiphaga novaeseelandiae', 'Gymnorhina tibicen', 'Cinclus cinclus']\n[8.5133559e-01 1.0837461e-01 2.4569901e-02 5.5703055e-03 7.7003933e-04\n 3.1091165e-04 2.4278162e-04 1.4803851e-04 1.3632252e-04 1.3632252e-04]\n",
     "output_type": "stream"
    },
    {
     "output_type": "execute_result",
     "execution_count": 6,
     "data": {
      "text/plain": "0.9915948180278065"
     },
     "metadata": {}
    }
   ]
  },
  {
   "cell_type": "markdown",
   "source": "# Program",
   "metadata": {
    "cell_id": "00010-39a96f83-3be6-44ff-b35c-7eb1b2a9f45b",
    "deepnote_cell_type": "markdown"
   }
  },
  {
   "cell_type": "code",
   "metadata": {
    "execution": {
     "iopub.status.busy": "2021-08-18T12:14:05.131098Z",
     "iopub.execute_input": "2021-08-18T12:14:05.131748Z",
     "iopub.status.idle": "2021-08-18T12:14:12.259553Z",
     "shell.execute_reply.started": "2021-08-18T12:14:05.131695Z",
     "shell.execute_reply": "2021-08-18T12:14:12.258204Z"
    },
    "trusted": true,
    "cell_id": "00011-80fe0d94-935f-46d1-ac47-8118e62e6f97",
    "deepnote_to_be_reexecuted": false,
    "source_hash": "b3c7bc33",
    "execution_start": 1629391806391,
    "execution_millis": 4684,
    "deepnote_cell_type": "code"
   },
   "source": "class BirdClassifier2:\n    def __init__(self, online=True):\n        \"\"\"\n        Identify name of bird based on image\n        online: load classification model and label data online, otherwise from local machine\n        \"\"\"\n        \n        # classification model\n        model_url = (\"https://tfhub.dev/google/aiy/vision/classifier/birds_V1/1\" if online\n                     else \"classifier\")\n        self.model = hub.KerasLayer(model_url)\n\n        # recognizable bird names\n        label_url = (\"https://www.gstatic.com/aihub/tfhub/labelmaps/aiy_birds_V1_labelmap.csv\" if online\n                     else \"classifier/labels.csv\")\n        data_label = pd.read_csv(label_url)\n        self.labels = dict(data_label.values)\n                \n    @staticmethod\n    def load_image(url):\n        \"\"\"\n        Read image url into array (224, 224)\n        \"\"\"\n        \n        # Loading images\n        image_get_response = urllib.request.urlopen(url)\n        image_array = np.asarray(bytearray(image_get_response.read()), dtype=np.uint8)\n\n        # Changing images\n        image = cv2.imdecode(image_array, cv2.IMREAD_COLOR)\n        image = cv2.resize(image, (224, 224))\n        image = cv2.cvtColor(image, cv2.COLOR_BGR2RGB)\n        image = image / 255\n        \n        return image\n    \n    def identify(self, image_url):\n        \"\"\"\n        Identify name of bird based on image url\n        \"\"\"\n        \n        # Generate tensor\n        image = self.load_image(image_url)\n        image_tensor = tf.convert_to_tensor([image], dtype=tf.float32)\n\n        # predict bird name\n        prob = self.model.call(image_tensor).numpy()[0]  # probability for each bird\n        top_indices = prob.argsort()[::-1]  # indices of predictions from most to least\n        top_names = list(map(self.labels.get, top_indices))  # bird names from most to least\n        top_scores = prob[top_indices]  # scores from most to least\n        \n        return top_names, top_scores\n    \nstart_time = time.time()\nclf = BirdClassifier2()\nfor i, url in enumerate(image_urls):\n    top_names, top_scores = clf.identify(url)\n    # Print results to kubernetes log\n    print(f'Run: {i + 1}')\n    print(f'Top match: {top_names[0]} with score: {top_scores[0]}')\n    print(f'Second match: {top_names[1]} with score: {top_scores[1]}')\n    print(f'Third match: {top_names[2]} with score: {top_scores[2]}\\n')\nprint(f'Time spent: {time.time() - start_time}')",
   "execution_count": 7,
   "outputs": [
    {
     "name": "stdout",
     "text": "INFO:tensorflow:Saver not created because there are no variables in the graph to restore\nINFO:tensorflow:Saver not created because there are no variables in the graph to restore\nRun: 1\nTop match: Phalacrocorax varius varius with score: 0.8513355851173401\nSecond match: Phalacrocorax varius with score: 0.10837461054325104\nThird match: Microcarbo melanoleucos with score: 0.024569900706410408\n\nRun: 2\nTop match: Galerida cristata with score: 0.828108012676239\nSecond match: Alauda arvensis with score: 0.08939234167337418\nThird match: Eremophila alpestris with score: 0.022008126601576805\n\nRun: 3\nTop match: Eumomota superciliosa with score: 0.41272449493408203\nSecond match: Momotus coeruliceps with score: 0.052539676427841187\nThird match: Momotus lessonii with score: 0.048381607979536057\n\nRun: 4\nTop match: Aulacorhynchus prasinus with score: 0.7977310419082642\nSecond match: Cyanocorax yncas with score: 0.1197560653090477\nThird match: Chlorophanes spiza with score: 0.014038418419659138\n\nRun: 5\nTop match: Erithacus rubecula with score: 0.8383846879005432\nSecond match: Ixoreus naevius with score: 0.0030801603570580482\nThird match: Setophaga tigrina with score: 0.0026119176764041185\n\nTime spent: 4.72906494140625\n",
     "output_type": "stream"
    }
   ]
  },
  {
   "cell_type": "markdown",
   "source": "# Test",
   "metadata": {
    "cell_id": "00012-790eac9e-09bd-4b22-9e72-698d95e7cfa5",
    "deepnote_cell_type": "markdown"
   }
  },
  {
   "cell_type": "code",
   "metadata": {
    "execution": {
     "iopub.status.busy": "2021-08-18T12:14:12.26126Z",
     "iopub.execute_input": "2021-08-18T12:14:12.261738Z",
     "iopub.status.idle": "2021-08-18T12:14:47.125321Z",
     "shell.execute_reply.started": "2021-08-18T12:14:12.261694Z",
     "shell.execute_reply": "2021-08-18T12:14:47.124585Z"
    },
    "trusted": true,
    "cell_id": "00013-41c5124a-6f6f-4ea9-a288-eb3017bd93ff",
    "deepnote_to_be_reexecuted": false,
    "source_hash": "684071a7",
    "execution_start": 1629391817139,
    "execution_millis": 25560,
    "deepnote_cell_type": "code"
   },
   "source": "%%ipytest\n\n@pytest.fixture\ndef classifier():\n    return BirdClassifier2()\n\n@pytest.mark.parametrize('url', image_urls)\ndef test_load_image(classifier, url):\n    image = classifier.load_image(url)\n    assert image.shape == (224, 224, 3)\n    assert np.all(image <= 1)  # normalized\n    \n@pytest.mark.parametrize('image_url,exp_top_3_names', [\n    ('https://upload.wikimedia.org/wikipedia/commons/c/c8/Phalacrocorax_varius_-Waikawa%2C_Marlborough%2C_New_Zealand-8.jpg',\n     [\"Phalacrocorax varius varius\", \"Phalacrocorax varius\", \"Microcarbo melanoleucos\"]),\n    ('https://quiz.natureid.no/bird/db_media/eBook/679edc606d9a363f775dabf0497d31de8c3d7060.jpg',\n     [\"Galerida cristata\", \"Alauda arvensis\", \"Eremophila alpestris\"]),\n    ('https://upload.wikimedia.org/wikipedia/commons/8/81/Eumomota_superciliosa.jpg',\n     [\"Eumomota superciliosa\", \"Momotus coeruliceps\", \"Momotus lessonii\"]),\n    ('https://i.pinimg.com/originals/f3/fb/92/f3fb92afce5ddff09a7370d90d021225.jpg',\n     [\"Aulacorhynchus prasinus\", \"Cyanocorax yncas\", \"Chlorophanes spiza\"]),\n    ('https://cdn.britannica.com/77/189277-004-0A3BC3D4.jpg',\n     [\"Erithacus rubecula\", \"Ixoreus naevius\", \"Setophaga tigrina\"])\n])\ndef test_identify(classifier, image_url, exp_top_3_names):\n    top_names, top_scores = classifier.identify(image_url)\n    npt.assert_equal(top_names[:3], exp_top_3_names)\n    npt.assert_array_less(top_scores[1:]/top_scores[0], 0.5)  # top probability more than twice others\n    npt.assert_almost_equal(sum(top_scores), 1, decimal=5)  # total probability 1",
   "execution_count": 8,
   "outputs": [
    {
     "name": "stdout",
     "text": "INFO:tensorflow:Saver not created because there are no variables in the graph to restore\nINFO:tensorflow:Saver not created because there are no variables in the graph to restore\n\u001b[32m.\u001b[0mINFO:tensorflow:Saver not created because there are no variables in the graph to restore\nINFO:tensorflow:Saver not created because there are no variables in the graph to restore\n\u001b[32m.\u001b[0mINFO:tensorflow:Saver not created because there are no variables in the graph to restore\nINFO:tensorflow:Saver not created because there are no variables in the graph to restore\n\u001b[32m.\u001b[0mINFO:tensorflow:Saver not created because there are no variables in the graph to restore\nINFO:tensorflow:Saver not created because there are no variables in the graph to restore\n\u001b[32m.\u001b[0mINFO:tensorflow:Saver not created because there are no variables in the graph to restore\nINFO:tensorflow:Saver not created because there are no variables in the graph to restore\n\u001b[32m.\u001b[0mINFO:tensorflow:Saver not created because there are no variables in the graph to restore\nINFO:tensorflow:Saver not created because there are no variables in the graph to restore\n\u001b[32m.\u001b[0mINFO:tensorflow:Saver not created because there are no variables in the graph to restore\nINFO:tensorflow:Saver not created because there are no variables in the graph to restore\n\u001b[32m.\u001b[0mINFO:tensorflow:Saver not created because there are no variables in the graph to restore\nINFO:tensorflow:Saver not created because there are no variables in the graph to restore\n\u001b[32m.\u001b[0mINFO:tensorflow:Saver not created because there are no variables in the graph to restore\nINFO:tensorflow:Saver not created because there are no variables in the graph to restore\n\u001b[32m.\u001b[0mINFO:tensorflow:Saver not created because there are no variables in the graph to restore\nINFO:tensorflow:Saver not created because there are no variables in the graph to restore\n\u001b[32m.\u001b[0m\u001b[32m                                                                                   [100%]\u001b[0m\n\u001b[32m\u001b[32m\u001b[1m10 passed\u001b[0m\u001b[32m in 25.24s\u001b[0m\u001b[0m\n",
     "output_type": "stream"
    }
   ]
  },
  {
   "cell_type": "markdown",
   "source": "# Test offline",
   "metadata": {
    "execution": {
     "iopub.status.busy": "2021-08-18T02:26:49.850327Z",
     "iopub.execute_input": "2021-08-18T02:26:49.850687Z",
     "iopub.status.idle": "2021-08-18T02:26:49.854501Z",
     "shell.execute_reply.started": "2021-08-18T02:26:49.850619Z",
     "shell.execute_reply": "2021-08-18T02:26:49.853846Z"
    },
    "cell_id": "00014-ad38397d-5f30-4632-8301-dae9f98ee2dc",
    "deepnote_cell_type": "markdown"
   }
  },
  {
   "cell_type": "code",
   "metadata": {
    "execution": {
     "iopub.status.busy": "2021-08-18T12:14:48.537943Z",
     "iopub.execute_input": "2021-08-18T12:14:48.538633Z",
     "iopub.status.idle": "2021-08-18T12:15:14.492679Z",
     "shell.execute_reply.started": "2021-08-18T12:14:48.538584Z",
     "shell.execute_reply": "2021-08-18T12:15:14.491015Z"
    },
    "trusted": true,
    "cell_id": "00016-1278a425-275b-44f6-88b1-27389ffdff02",
    "deepnote_to_be_reexecuted": false,
    "source_hash": "ee262ec4",
    "execution_start": 1629391949583,
    "execution_millis": 22705,
    "deepnote_cell_type": "code"
   },
   "source": "%%ipytest\n\n@pytest.fixture\ndef classifier_offline():\n    return BirdClassifier2(online=False)\n\nlocal_dir = \"file:///work/veriff-mobile-bird-classification\"  # repository directory – change /kaggle/working to suit local file system\n@pytest.mark.parametrize('url', [\n    f\"{local_dir}/images/Phalacrocorax varius varius.jpg\",\n    f\"{local_dir}/images/Galerida cristata.jpg\",\n    f\"{local_dir}/images/Eumomota superciliosa.jpg\",\n    f\"{local_dir}/images/Aulacorhynchus prasinus.jpg\",\n    f\"{local_dir}/images/Erithacus rubecula.jpg\"\n])\ndef test_load_image_offline(classifier_offline, url):\n    \"\"\"\n    url: mocked by local file path\n    \"\"\"\n    image = classifier_offline.load_image(url)\n    assert image.shape == (224, 224, 3)\n    assert np.all(image <= 1)  # normalized\n    \n@pytest.mark.parametrize('image_url,exp_top_3_names', [\n    (f'{local_dir}/images/Phalacrocorax varius varius.jpg',\n     [\"Phalacrocorax varius varius\", \"Phalacrocorax varius\", \"Microcarbo melanoleucos\"]),\n    (f'{local_dir}/images/Galerida cristata.jpg',\n     [\"Galerida cristata\", \"Alauda arvensis\", \"Eremophila alpestris\"]),\n    (f'{local_dir}/images/Eumomota superciliosa.jpg',\n     [\"Eumomota superciliosa\", \"Momotus coeruliceps\", \"Momotus lessonii\"]),\n    (f'{local_dir}/images/Aulacorhynchus prasinus.jpg',\n     [\"Aulacorhynchus prasinus\", \"Cyanocorax yncas\", \"Chlorophanes spiza\"]),\n    (f'{local_dir}/images/Erithacus rubecula.jpg',\n     [\"Erithacus rubecula\", \"Ixoreus naevius\", \"Setophaga tigrina\"])\n])\ndef test_identify_offline(classifier_offline, image_url, exp_top_3_names):\n    \"\"\"\n    image_url: mocked by local image file path\n    \"\"\"\n    top_names, top_scores = classifier_offline.identify(image_url)\n    npt.assert_equal(top_names[:3], exp_top_3_names)\n    npt.assert_array_less(top_scores[1:]/top_scores[0], 0.5)  # top probability more than twice others\n    npt.assert_almost_equal(sum(top_scores), 1, decimal=5)  # total probability 1",
   "execution_count": 9,
   "outputs": [
    {
     "name": "stdout",
     "text": "INFO:tensorflow:Saver not created because there are no variables in the graph to restore\nINFO:tensorflow:Saver not created because there are no variables in the graph to restore\n\u001b[32m.\u001b[0mINFO:tensorflow:Saver not created because there are no variables in the graph to restore\nINFO:tensorflow:Saver not created because there are no variables in the graph to restore\n\u001b[32m.\u001b[0mINFO:tensorflow:Saver not created because there are no variables in the graph to restore\nINFO:tensorflow:Saver not created because there are no variables in the graph to restore\n\u001b[32m.\u001b[0mINFO:tensorflow:Saver not created because there are no variables in the graph to restore\nINFO:tensorflow:Saver not created because there are no variables in the graph to restore\n\u001b[32m.\u001b[0mINFO:tensorflow:Saver not created because there are no variables in the graph to restore\nINFO:tensorflow:Saver not created because there are no variables in the graph to restore\n\u001b[32m.\u001b[0mINFO:tensorflow:Saver not created because there are no variables in the graph to restore\nINFO:tensorflow:Saver not created because there are no variables in the graph to restore\n\u001b[32m.\u001b[0mINFO:tensorflow:Saver not created because there are no variables in the graph to restore\nINFO:tensorflow:Saver not created because there are no variables in the graph to restore\n\u001b[32m.\u001b[0mINFO:tensorflow:Saver not created because there are no variables in the graph to restore\nINFO:tensorflow:Saver not created because there are no variables in the graph to restore\n\u001b[32m.\u001b[0mINFO:tensorflow:Saver not created because there are no variables in the graph to restore\nINFO:tensorflow:Saver not created because there are no variables in the graph to restore\n\u001b[32m.\u001b[0mINFO:tensorflow:Saver not created because there are no variables in the graph to restore\nINFO:tensorflow:Saver not created because there are no variables in the graph to restore\n\u001b[32m.\u001b[0m\u001b[32m                                                                                   [100%]\u001b[0m\n\u001b[32m\u001b[32m\u001b[1m10 passed\u001b[0m\u001b[32m in 22.41s\u001b[0m\u001b[0m\n",
     "output_type": "stream"
    }
   ]
  },
  {
   "cell_type": "markdown",
   "source": "# Original program",
   "metadata": {
    "cell_id": "00017-56c96aaa-daf1-4fe5-93ab-fd088e4cb758",
    "deepnote_cell_type": "markdown"
   }
  },
  {
   "cell_type": "code",
   "metadata": {
    "execution": {
     "iopub.status.busy": "2021-08-18T12:15:14.494487Z",
     "iopub.execute_input": "2021-08-18T12:15:14.494907Z",
     "iopub.status.idle": "2021-08-18T12:15:31.279983Z",
     "shell.execute_reply.started": "2021-08-18T12:15:14.494869Z",
     "shell.execute_reply": "2021-08-18T12:15:31.27899Z"
    },
    "trusted": true,
    "cell_id": "00018-baa9fe33-aa4a-466d-b342-148e8a64120d",
    "deepnote_to_be_reexecuted": false,
    "source_hash": "8e0670f7",
    "execution_start": 1629391976453,
    "execution_millis": 13431,
    "deepnote_cell_type": "code"
   },
   "source": "class BirdClassifier:\n    @staticmethod\n    def load_model():\n        return hub.KerasLayer(model_url)\n\n    def load_and_cleanup_labels(self):\n        bird_labels_raw = urllib.request.urlopen(labels_url)\n        bird_labels_lines = [line.decode('utf-8').replace('\\n', '') for line in bird_labels_raw.readlines()]\n        bird_labels_lines.pop(0)  # remove header (id, name)\n        birds = {}\n        for bird_line in bird_labels_lines:\n            bird_id = int(bird_line.split(',')[0])\n            bird_name = bird_line.split(',')[1]\n            birds[bird_id] = {'name': bird_name}\n\n        return birds\n\n    def order_birds_by_result_score(self, model_raw_output, bird_labels):\n        for index, value in np.ndenumerate(model_raw_output):\n            bird_index = index[1]\n            bird_labels[bird_index]['score'] = value\n\n        return sorted(bird_labels.items(), key=lambda x: x[1]['score'])\n\n    def get_top_n_result(self, top_index, birds_names_with_results_ordered):\n        bird_name = birds_names_with_results_ordered[top_index*(-1)][1]['name']\n        bird_score = birds_names_with_results_ordered[top_index*(-1)][1]['score']\n        return bird_name, bird_score\n\n    def main(self):\n        for index, image_url in enumerate(image_urls):\n            bird_model = self.load_model()\n            bird_labels = self.load_and_cleanup_labels()\n            # Loading images\n            image_get_response = urllib.request.urlopen(image_url)\n            image_array = np.asarray(bytearray(image_get_response.read()), dtype=np.uint8)\n            # Changing images\n            image = cv2.imdecode(image_array, cv2.IMREAD_COLOR)\n            image = cv2.resize(image, (224, 224))\n            image = cv2.cvtColor(image, cv2.COLOR_BGR2RGB)\n            image = image / 255\n            # Generate tensor\n            image_tensor = tf.convert_to_tensor(image, dtype=tf.float32)\n            image_tensor = tf.expand_dims(image_tensor, 0)\n            model_raw_output = bird_model.call(image_tensor).numpy()\n            birds_names_with_results_ordered = self.order_birds_by_result_score(model_raw_output, bird_labels)\n            # Print results to kubernetes log\n            print('Run: %s' % int(index + 1))\n            bird_name, bird_score = self.get_top_n_result(1, birds_names_with_results_ordered)\n            print('Top match: \"%s\" with score: %s' % (bird_name, bird_score))\n            bird_name, bird_score = self.get_top_n_result(2, birds_names_with_results_ordered)\n            print('Second match: \"%s\" with score: %s' % (bird_name, bird_score))\n            bird_name, bird_score = self.get_top_n_result(3, birds_names_with_results_ordered)\n            print('Third match: \"%s\" with score: %s' % (bird_name, bird_score))\n            print('\\n')\n\n\nif __name__ == \"__main__\":\n    start_time = time.time()\n    classifier = BirdClassifier()\n    classifier.main()\n    print('Time spent: %s' % (time.time() - start_time))",
   "execution_count": 10,
   "outputs": [
    {
     "name": "stdout",
     "text": "INFO:tensorflow:Saver not created because there are no variables in the graph to restore\nINFO:tensorflow:Saver not created because there are no variables in the graph to restore\nRun: 1\nTop match: \"Phalacrocorax varius varius\" with score: 0.8513356\nSecond match: \"Phalacrocorax varius\" with score: 0.10837461\nThird match: \"Microcarbo melanoleucos\" with score: 0.0245699\n\n\nINFO:tensorflow:Saver not created because there are no variables in the graph to restore\nINFO:tensorflow:Saver not created because there are no variables in the graph to restore\nRun: 2\nTop match: \"Galerida cristata\" with score: 0.828108\nSecond match: \"Alauda arvensis\" with score: 0.08939234\nThird match: \"Eremophila alpestris\" with score: 0.022008127\n\n\nINFO:tensorflow:Saver not created because there are no variables in the graph to restore\nINFO:tensorflow:Saver not created because there are no variables in the graph to restore\nRun: 3\nTop match: \"Eumomota superciliosa\" with score: 0.4127245\nSecond match: \"Momotus coeruliceps\" with score: 0.052539676\nThird match: \"Momotus lessonii\" with score: 0.048381608\n\n\nINFO:tensorflow:Saver not created because there are no variables in the graph to restore\nINFO:tensorflow:Saver not created because there are no variables in the graph to restore\nRun: 4\nTop match: \"Aulacorhynchus prasinus\" with score: 0.79773104\nSecond match: \"Cyanocorax yncas\" with score: 0.119756065\nThird match: \"Chlorophanes spiza\" with score: 0.014038418\n\n\nINFO:tensorflow:Saver not created because there are no variables in the graph to restore\nINFO:tensorflow:Saver not created because there are no variables in the graph to restore\nRun: 5\nTop match: \"Erithacus rubecula\" with score: 0.8383847\nSecond match: \"Ixoreus naevius\" with score: 0.0030801604\nThird match: \"Setophaga tigrina\" with score: 0.0026119177\n\n\nTime spent: 13.383371114730835\n",
     "output_type": "stream"
    }
   ]
  },
  {
   "cell_type": "markdown",
   "source": "# Performance analysis\n**What have been done:**\n\n* The class BirdClassifier was restructured to contain two methods—load_image and identify. These two methods reflect two main tasks of the classifier—acquiring image data and using image data to identify the kind of bird.\n\n* Optimized reading labels (csv file) using pandas instead of parsing text, ordering predicted scores, storing predicted scores in array instead of nested dictionary.\n\n* Focus classifier on single classification rather than multiple. Multiple classifications can be achieved by calling classifier multiple times.\n\n**Performance**\n\nNew classifier takes ~7 seconds to run while the original takes ~15 seconds. Most runtime spent on classification task by classification model.\n\n**Comments**\n\n* Top predictions required are few, we may not need to sort all scores; rather we can use numpy argpartition when size of list grows large. May complicate code a bit.\n\n* If Id in label data not important, we may use array instead of dictionary. Accessing array may be faster than dictionary due to dictionary calling hash function.",
   "metadata": {
    "cell_id": "00019-4d0f5353-c7ad-4aac-8bdd-f64dc853d5a6",
    "deepnote_cell_type": "markdown"
   }
  },
  {
   "cell_type": "markdown",
   "source": "<a style='text-decoration:none;line-height:16px;display:flex;color:#5B5B62;padding:10px;justify-content:end;' href='https://deepnote.com?utm_source=created-in-deepnote-cell&projectId=3ec90b06-16fb-4711-a41e-7ab7cebf27ac' target=\"_blank\">\n<img alt='Created in deepnote.com' style='display:inline;max-height:16px;margin:0px;margin-right:7.5px;' src='data:image/svg+xml;base64,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' > </img>\nCreated in <span style='font-weight:600;margin-left:4px;'>Deepnote</span></a>",
   "metadata": {
    "tags": [],
    "created_in_deepnote_cell": true,
    "deepnote_cell_type": "markdown"
   }
  }
 ],
 "nbformat": 4,
 "nbformat_minor": 4,
 "metadata": {
  "kernelspec": {
   "language": "python",
   "display_name": "Python 3",
   "name": "python3"
  },
  "language_info": {
   "pygments_lexer": "ipython3",
   "nbconvert_exporter": "python",
   "version": "3.6.4",
   "file_extension": ".py",
   "codemirror_mode": {
    "name": "ipython",
    "version": 3
   },
   "name": "python",
   "mimetype": "text/x-python"
  },
  "deepnote_notebook_id": "cb1b7ac7-a005-49c2-b2f6-03247cb898b5",
  "deepnote": {},
  "deepnote_execution_queue": []
 }
}